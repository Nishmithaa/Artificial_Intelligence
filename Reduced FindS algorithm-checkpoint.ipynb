{
 "cells": [
  {
   "cell_type": "code",
   "execution_count": 1,
   "id": "fb672373",
   "metadata": {},
   "outputs": [
    {
     "name": "stdout",
     "output_type": "stream",
     "text": [
      "\n",
      "The given training examples are:\n",
      "['Sunny', 'Warm', 'Normal', 'Strong', 'Warm', 'Same', 'Yes']\n",
      "['Sunny', 'Warm', 'High', 'Strong', 'Warm', 'Same', 'Yes']\n",
      "['Rainy', 'Cold', 'High', 'Strong', 'Warm', 'Change', 'No']\n",
      "['Sunny', 'Warm', 'High', 'Strong', 'Cool', 'Change', 'Yes']\n"
     ]
    }
   ],
   "source": [
    "import csv  \n",
    "#hypo=['%','%','%','%','%','%'] \n",
    "with open('tr.csv') as csv_file:  \n",
    "    readcsv = csv.reader(csv_file, delimiter=',') \n",
    "    data=[]  \n",
    "    print(\"\\nThe given training examples are:\")  \n",
    "    for row in readcsv:     \n",
    "        print(row)  \n",
    "        if row[len(row)-1] =='Yes':    \n",
    "            data.append(row)  "
   ]
  },
  {
   "cell_type": "code",
   "execution_count": 2,
   "id": "96ffcf6c",
   "metadata": {},
   "outputs": [
    {
     "name": "stdout",
     "output_type": "stream",
     "text": [
      "\n",
      "The positive examples are:\n",
      "['Sunny', 'Warm', 'Normal', 'Strong', 'Warm', 'Same', 'Yes']\n",
      "['Sunny', 'Warm', 'High', 'Strong', 'Warm', 'Same', 'Yes']\n",
      "['Sunny', 'Warm', 'High', 'Strong', 'Cool', 'Change', 'Yes']\n"
     ]
    }
   ],
   "source": [
    "print(\"\\nThe positive examples are:\")\n",
    "for x in data:  \n",
    "    print(x) \n",
    "    "
   ]
  },
  {
   "cell_type": "code",
   "execution_count": 3,
   "id": "85da3a5d",
   "metadata": {},
   "outputs": [
    {
     "data": {
      "text/plain": [
       "3"
      ]
     },
     "execution_count": 3,
     "metadata": {},
     "output_type": "execute_result"
    }
   ],
   "source": [
    "TotalExamples=len(data) \n",
    "TotalExamples"
   ]
  },
  {
   "cell_type": "code",
   "execution_count": 4,
   "id": "29400536",
   "metadata": {},
   "outputs": [
    {
     "data": {
      "text/plain": [
       "['Sunny', 'Warm', 'Normal', 'Strong', 'Warm', 'Same']"
      ]
     },
     "execution_count": 4,
     "metadata": {},
     "output_type": "execute_result"
    }
   ],
   "source": [
    "i=0\n",
    "hypo=[]\n",
    "d=len(data[0])-1\n",
    "for j in range(d):  \n",
    "    hypo.append(data[i][j])\n",
    "hypo"
   ]
  },
  {
   "cell_type": "code",
   "execution_count": 5,
   "id": "fa4522a3",
   "metadata": {},
   "outputs": [
    {
     "name": "stdout",
     "output_type": "stream",
     "text": [
      "['Sunny', 'Warm', '?', 'Strong', '?', '?']\n"
     ]
    }
   ],
   "source": [
    "for i in range(TotalExamples):   \n",
    "    for k in range(d): \n",
    "        if hypo[k]!=data[i][k]: \n",
    "            hypo[k]='?'\n",
    "        else:    \n",
    "            hypo[k] \n",
    "print(hypo)"
   ]
  },
  {
   "cell_type": "code",
   "execution_count": null,
   "id": "bd44b033",
   "metadata": {},
   "outputs": [],
   "source": [
    " "
   ]
  }
 ],
 "metadata": {
  "kernelspec": {
   "display_name": "Python 3 (ipykernel)",
   "language": "python",
   "name": "python3"
  },
  "language_info": {
   "codemirror_mode": {
    "name": "ipython",
    "version": 3
   },
   "file_extension": ".py",
   "mimetype": "text/x-python",
   "name": "python",
   "nbconvert_exporter": "python",
   "pygments_lexer": "ipython3",
   "version": "3.9.7"
  }
 },
 "nbformat": 4,
 "nbformat_minor": 5
}
